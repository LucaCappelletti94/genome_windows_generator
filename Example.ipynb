{
 "cells": [
  {
   "cell_type": "code",
   "execution_count": 1,
   "metadata": {},
   "outputs": [],
   "source": [
    "from genome_windows_generator import NoisyWindowsGenerator"
   ]
  },
  {
   "cell_type": "code",
   "execution_count": 2,
   "metadata": {},
   "outputs": [
    {
     "data": {
      "application/vnd.jupyter.widget-view+json": {
       "model_id": "",
       "version_major": 2,
       "version_minor": 0
      },
      "text/plain": [
       "HBox(children=(IntProgress(value=0, description='Filtering chromosomes for the genome hg19', max=93, style=Pro…"
      ]
     },
     "metadata": {},
     "output_type": "display_data"
    },
    {
     "name": "stdout",
     "output_type": "stream",
     "text": [
      "\r",
      "loading /tmp/hg19/200/115c6522363239a82561d6e6dddd228ae9623415000f7c6d2f72df5ca88cee26_filled.pkl\n",
      "loading /tmp/hg19/200/115c6522363239a82561d6e6dddd228ae9623415000f7c6d2f72df5ca88cee26_tasselized.pkl\n",
      "loading /tmp/hg19/200/115c6522363239a82561d6e6dddd228ae9623415000f7c6d2f72df5ca88cee26_sequences.pkl\n"
     ]
    },
    {
     "data": {
      "application/vnd.jupyter.widget-view+json": {
       "model_id": "",
       "version_major": 2,
       "version_minor": 0
      },
      "text/plain": [
       "HBox(children=(IntProgress(value=0, description='Groupping Train windows', max=4, style=ProgressStyle(descript…"
      ]
     },
     "metadata": {},
     "output_type": "display_data"
    },
    {
     "name": "stdout",
     "output_type": "stream",
     "text": [
      "\r"
     ]
    },
    {
     "data": {
      "application/vnd.jupyter.widget-view+json": {
       "model_id": "",
       "version_major": 2,
       "version_minor": 0
      },
      "text/plain": [
       "HBox(children=(IntProgress(value=0, description='Groupping Test windows', max=4, style=ProgressStyle(descripti…"
      ]
     },
     "metadata": {},
     "output_type": "display_data"
    },
    {
     "name": "stdout",
     "output_type": "stream",
     "text": [
      "\r",
      "loading /tmp/hg19/200/115c6522363239a82561d6e6dddd228ae9623415000f7c6d2f72df5ca88cee26_gap_mask.pkl\n"
     ]
    }
   ],
   "source": [
    "data_generator = NoisyWindowsGenerator(\n",
    "    assembly=\"hg19\",\n",
    "    window_size=200,\n",
    "    batch_size=3,\n",
    "    buffer_size=5,\n",
    "    train_chromosomes=[\"chrM\",\"chr18\"],\n",
    "    test_chromosomes=[\"chr16\",\"chr17\"],\n",
    "    cache_dir=\"/tmp\",\n",
    "    n_type=\"uniform\"\n",
    ")"
   ]
  },
  {
   "cell_type": "code",
   "execution_count": null,
   "metadata": {},
   "outputs": [],
   "source": []
  },
  {
   "cell_type": "code",
   "execution_count": null,
   "metadata": {},
   "outputs": [],
   "source": [
    "model.fit_generator(\n",
    "    epochs=100,\n",
    "    steps_per_epoch=len(data_generator),\n",
    "    generator=data_generator.train(),\n",
    "    validation_steps=data_generator.test(),\n",
    ")"
   ]
  }
 ],
 "metadata": {
  "kernelspec": {
   "display_name": "Python 3",
   "language": "python",
   "name": "python3"
  },
  "language_info": {
   "codemirror_mode": {
    "name": "ipython",
    "version": 3
   },
   "file_extension": ".py",
   "mimetype": "text/x-python",
   "name": "python",
   "nbconvert_exporter": "python",
   "pygments_lexer": "ipython3",
   "version": "3.7.4"
  }
 },
 "nbformat": 4,
 "nbformat_minor": 2
}
